{
 "cells": [
  {
   "cell_type": "code",
   "execution_count": 1,
   "metadata": {},
   "outputs": [],
   "source": [
    "import pandas as pd\n",
    "import matplotlib.pyplot as plt"
   ]
  },
  {
   "cell_type": "code",
   "execution_count": 2,
   "metadata": {},
   "outputs": [],
   "source": [
    "df = pd.read_csv('../../dados/instagram/filtered_comments.csv')"
   ]
  },
  {
   "cell_type": "code",
   "execution_count": 8,
   "metadata": {},
   "outputs": [],
   "source": [
    "df_grouped = df.groupby('id_do_usuario').count()[['id_comment']]\\\n",
    "                                        .reset_index()\\\n",
    "                                        .rename(columns = {'id_comment': 'comentarios'})\n",
    "stats_df = df_grouped.groupby('comentarios').count()\\\n",
    "                                            .reset_index()\\\n",
    "                                            .rename(columns = {'id_do_usuario': 'frequencia'})\n",
    "stats_df['pdf'] = stats_df['frequencia'] / sum(stats_df['frequencia'])\n",
    "stats_df['cdf'] = stats_df['pdf'].cumsum()"
   ]
  },
  {
   "cell_type": "code",
   "execution_count": 9,
   "metadata": {},
   "outputs": [
    {
     "data": {
      "text/html": [
       "<div>\n",
       "<style scoped>\n",
       "    .dataframe tbody tr th:only-of-type {\n",
       "        vertical-align: middle;\n",
       "    }\n",
       "\n",
       "    .dataframe tbody tr th {\n",
       "        vertical-align: top;\n",
       "    }\n",
       "\n",
       "    .dataframe thead th {\n",
       "        text-align: right;\n",
       "    }\n",
       "</style>\n",
       "<table border=\"1\" class=\"dataframe\">\n",
       "  <thead>\n",
       "    <tr style=\"text-align: right;\">\n",
       "      <th></th>\n",
       "      <th>comentarios</th>\n",
       "      <th>frequencia</th>\n",
       "      <th>pdf</th>\n",
       "      <th>cdf</th>\n",
       "    </tr>\n",
       "  </thead>\n",
       "  <tbody>\n",
       "    <tr>\n",
       "      <th>0</th>\n",
       "      <td>1</td>\n",
       "      <td>22603</td>\n",
       "      <td>0.733150</td>\n",
       "      <td>0.733150</td>\n",
       "    </tr>\n",
       "    <tr>\n",
       "      <th>1</th>\n",
       "      <td>2</td>\n",
       "      <td>4286</td>\n",
       "      <td>0.139020</td>\n",
       "      <td>0.872170</td>\n",
       "    </tr>\n",
       "    <tr>\n",
       "      <th>2</th>\n",
       "      <td>3</td>\n",
       "      <td>1443</td>\n",
       "      <td>0.046805</td>\n",
       "      <td>0.918975</td>\n",
       "    </tr>\n",
       "    <tr>\n",
       "      <th>3</th>\n",
       "      <td>4</td>\n",
       "      <td>721</td>\n",
       "      <td>0.023386</td>\n",
       "      <td>0.942361</td>\n",
       "    </tr>\n",
       "    <tr>\n",
       "      <th>4</th>\n",
       "      <td>5</td>\n",
       "      <td>394</td>\n",
       "      <td>0.012780</td>\n",
       "      <td>0.955141</td>\n",
       "    </tr>\n",
       "    <tr>\n",
       "      <th>...</th>\n",
       "      <td>...</td>\n",
       "      <td>...</td>\n",
       "      <td>...</td>\n",
       "      <td>...</td>\n",
       "    </tr>\n",
       "    <tr>\n",
       "      <th>95</th>\n",
       "      <td>189</td>\n",
       "      <td>1</td>\n",
       "      <td>0.000032</td>\n",
       "      <td>0.999870</td>\n",
       "    </tr>\n",
       "    <tr>\n",
       "      <th>96</th>\n",
       "      <td>199</td>\n",
       "      <td>1</td>\n",
       "      <td>0.000032</td>\n",
       "      <td>0.999903</td>\n",
       "    </tr>\n",
       "    <tr>\n",
       "      <th>97</th>\n",
       "      <td>313</td>\n",
       "      <td>1</td>\n",
       "      <td>0.000032</td>\n",
       "      <td>0.999935</td>\n",
       "    </tr>\n",
       "    <tr>\n",
       "      <th>98</th>\n",
       "      <td>372</td>\n",
       "      <td>1</td>\n",
       "      <td>0.000032</td>\n",
       "      <td>0.999968</td>\n",
       "    </tr>\n",
       "    <tr>\n",
       "      <th>99</th>\n",
       "      <td>556</td>\n",
       "      <td>1</td>\n",
       "      <td>0.000032</td>\n",
       "      <td>1.000000</td>\n",
       "    </tr>\n",
       "  </tbody>\n",
       "</table>\n",
       "<p>100 rows × 4 columns</p>\n",
       "</div>"
      ],
      "text/plain": [
       "    comentarios  frequencia       pdf       cdf\n",
       "0             1       22603  0.733150  0.733150\n",
       "1             2        4286  0.139020  0.872170\n",
       "2             3        1443  0.046805  0.918975\n",
       "3             4         721  0.023386  0.942361\n",
       "4             5         394  0.012780  0.955141\n",
       "..          ...         ...       ...       ...\n",
       "95          189           1  0.000032  0.999870\n",
       "96          199           1  0.000032  0.999903\n",
       "97          313           1  0.000032  0.999935\n",
       "98          372           1  0.000032  0.999968\n",
       "99          556           1  0.000032  1.000000\n",
       "\n",
       "[100 rows x 4 columns]"
      ]
     },
     "execution_count": 9,
     "metadata": {},
     "output_type": "execute_result"
    }
   ],
   "source": [
    "stats_df"
   ]
  },
  {
   "cell_type": "code",
   "execution_count": 10,
   "metadata": {},
   "outputs": [
    {
     "data": {
      "image/png": "[encoded data removed]",
      "text/plain": [
       "<Figure size 432x288 with 1 Axes>"
      ]
     },
     "metadata": {
      "needs_background": "light"
     },
     "output_type": "display_data"
    }
   ],
   "source": [
    "plt.hist(df_grouped['comentarios'], bins=df_grouped['comentarios'].max()+1, \n",
    "         density=True, cumulative=True, histtype='step')\n",
    "plt.xlim(0, df_grouped['comentarios'].max())\n",
    "plt.xscale('symlog', basex=2)\n",
    "plt.xticks([2**i for i in range(0,11)])\n",
    "plt.xlabel('Número de comentários')\n",
    "plt.title('CDF')\n",
    "plt.show()"
   ]
  },
  {
   "cell_type": "code",
   "execution_count": 11,
   "metadata": {},
   "outputs": [
    {
     "data": {
      "image/png": "[encoded data removed]",
      "text/plain": [
       "<Figure size 432x288 with 1 Axes>"
      ]
     },
     "metadata": {
      "needs_background": "light"
     },
     "output_type": "display_data"
    }
   ],
   "source": [
    "plt.hist(df_grouped['comentarios'], bins=df_grouped['comentarios'].max()+1, density=True, histtype='step')\n",
    "plt.xscale('symlog', basex=2)\n",
    "plt.xticks([2**i for i in range(0,12)])\n",
    "plt.xlabel('Número de comentários')\n",
    "plt.title('PDF')\n",
    "plt.show()"
   ]
  },
  {
   "cell_type": "code",
   "execution_count": null,
   "metadata": {},
   "outputs": [],
   "source": []
  }
 ],
 "metadata": {
  "kernelspec": {
   "display_name": "Python 3.7 (ic)",
   "language": "python",
   "name": "ic-py37"
  },
  "language_info": {
   "codemirror_mode": {
    "name": "ipython",
    "version": 3
   },
   "file_extension": ".py",
   "mimetype": "text/x-python",
   "name": "python",
   "nbconvert_exporter": "python",
   "pygments_lexer": "ipython3",
   "version": "3.7.7"
  }
 },
 "nbformat": 4,
 "nbformat_minor": 4
}
