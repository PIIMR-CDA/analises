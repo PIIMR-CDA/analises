{
 "cells": [
  {
   "cell_type": "code",
   "execution_count": 1,
   "metadata": {},
   "outputs": [],
   "source": [
    "import pandas as pd\n",
    "import matplotlib.pyplot as plt"
   ]
  },
  {
   "cell_type": "code",
   "execution_count": 3,
   "metadata": {},
   "outputs": [],
   "source": [
    "df = pd.read_csv('../../dados/instagram/instagram_comments.csv')"
   ]
  },
  {
   "cell_type": "code",
   "execution_count": 9,
   "metadata": {},
   "outputs": [],
   "source": [
    "df_grouped = df.groupby('id_do_usuario').count()[['id_comment']]\\\n",
    "                                        .reset_index()\\\n",
    "                                        .rename(columns = {'id_comment': 'comentarios'})\n",
    "stats_df = df_grouped.groupby('comentarios').count()\\\n",
    "                                            .reset_index()\\\n",
    "                                            .rename(columns = {'id_do_usuario': 'frequencia'})\n",
    "stats_df['pdf'] = stats_df['frequencia'] / sum(stats_df['frequencia'])\n",
    "stats_df['cdf'] = stats_df['pdf'].cumsum()"
   ]
  },
  {
   "cell_type": "code",
   "execution_count": 10,
   "metadata": {},
   "outputs": [
    {
     "data": {
      "text/html": [
       "<div>\n",
       "<style scoped>\n",
       "    .dataframe tbody tr th:only-of-type {\n",
       "        vertical-align: middle;\n",
       "    }\n",
       "\n",
       "    .dataframe tbody tr th {\n",
       "        vertical-align: top;\n",
       "    }\n",
       "\n",
       "    .dataframe thead th {\n",
       "        text-align: right;\n",
       "    }\n",
       "</style>\n",
       "<table border=\"1\" class=\"dataframe\">\n",
       "  <thead>\n",
       "    <tr style=\"text-align: right;\">\n",
       "      <th></th>\n",
       "      <th>comentarios</th>\n",
       "      <th>frequencia</th>\n",
       "      <th>pdf</th>\n",
       "      <th>cdf</th>\n",
       "    </tr>\n",
       "  </thead>\n",
       "  <tbody>\n",
       "    <tr>\n",
       "      <th>0</th>\n",
       "      <td>1</td>\n",
       "      <td>79235</td>\n",
       "      <td>0.717604</td>\n",
       "      <td>0.717604</td>\n",
       "    </tr>\n",
       "    <tr>\n",
       "      <th>1</th>\n",
       "      <td>2</td>\n",
       "      <td>15570</td>\n",
       "      <td>0.141012</td>\n",
       "      <td>0.858617</td>\n",
       "    </tr>\n",
       "    <tr>\n",
       "      <th>2</th>\n",
       "      <td>3</td>\n",
       "      <td>5609</td>\n",
       "      <td>0.050799</td>\n",
       "      <td>0.909415</td>\n",
       "    </tr>\n",
       "    <tr>\n",
       "      <th>3</th>\n",
       "      <td>4</td>\n",
       "      <td>2794</td>\n",
       "      <td>0.025304</td>\n",
       "      <td>0.934720</td>\n",
       "    </tr>\n",
       "    <tr>\n",
       "      <th>4</th>\n",
       "      <td>5</td>\n",
       "      <td>1559</td>\n",
       "      <td>0.014119</td>\n",
       "      <td>0.948839</td>\n",
       "    </tr>\n",
       "    <tr>\n",
       "      <th>...</th>\n",
       "      <td>...</td>\n",
       "      <td>...</td>\n",
       "      <td>...</td>\n",
       "      <td>...</td>\n",
       "    </tr>\n",
       "    <tr>\n",
       "      <th>214</th>\n",
       "      <td>547</td>\n",
       "      <td>1</td>\n",
       "      <td>0.000009</td>\n",
       "      <td>0.999964</td>\n",
       "    </tr>\n",
       "    <tr>\n",
       "      <th>215</th>\n",
       "      <td>629</td>\n",
       "      <td>1</td>\n",
       "      <td>0.000009</td>\n",
       "      <td>0.999973</td>\n",
       "    </tr>\n",
       "    <tr>\n",
       "      <th>216</th>\n",
       "      <td>730</td>\n",
       "      <td>1</td>\n",
       "      <td>0.000009</td>\n",
       "      <td>0.999982</td>\n",
       "    </tr>\n",
       "    <tr>\n",
       "      <th>217</th>\n",
       "      <td>1506</td>\n",
       "      <td>1</td>\n",
       "      <td>0.000009</td>\n",
       "      <td>0.999991</td>\n",
       "    </tr>\n",
       "    <tr>\n",
       "      <th>218</th>\n",
       "      <td>1757</td>\n",
       "      <td>1</td>\n",
       "      <td>0.000009</td>\n",
       "      <td>1.000000</td>\n",
       "    </tr>\n",
       "  </tbody>\n",
       "</table>\n",
       "<p>219 rows × 4 columns</p>\n",
       "</div>"
      ],
      "text/plain": [
       "     comentarios  frequencia       pdf       cdf\n",
       "0              1       79235  0.717604  0.717604\n",
       "1              2       15570  0.141012  0.858617\n",
       "2              3        5609  0.050799  0.909415\n",
       "3              4        2794  0.025304  0.934720\n",
       "4              5        1559  0.014119  0.948839\n",
       "..           ...         ...       ...       ...\n",
       "214          547           1  0.000009  0.999964\n",
       "215          629           1  0.000009  0.999973\n",
       "216          730           1  0.000009  0.999982\n",
       "217         1506           1  0.000009  0.999991\n",
       "218         1757           1  0.000009  1.000000\n",
       "\n",
       "[219 rows x 4 columns]"
      ]
     },
     "execution_count": 10,
     "metadata": {},
     "output_type": "execute_result"
    }
   ],
   "source": [
    "stats_df"
   ]
  },
  {
   "cell_type": "code",
   "execution_count": 16,
   "metadata": {},
   "outputs": [
    {
     "data": {
      "image/png": "[encoded data removed]",
      "text/plain": [
       "<Figure size 432x288 with 1 Axes>"
      ]
     },
     "metadata": {
      "needs_background": "light"
     },
     "output_type": "display_data"
    }
   ],
   "source": [
    "plt.hist(df_grouped['comentarios'], bins=df_grouped['comentarios'].max()+1, \n",
    "         density=True, cumulative=True, histtype='step')\n",
    "plt.xlim(0, df_grouped['comentarios'].max())\n",
    "plt.xscale('symlog', basex=2)\n",
    "plt.xticks([2**i for i in range(0,11)])\n",
    "plt.xlabel('Número de comentários')\n",
    "plt.title('CDF')\n",
    "plt.show()"
   ]
  },
  {
   "cell_type": "code",
   "execution_count": 15,
   "metadata": {},
   "outputs": [
    {
     "data": {
      "image/png": "[encoded data removed]",
      "text/plain": [
       "<Figure size 432x288 with 1 Axes>"
      ]
     },
     "metadata": {
      "needs_background": "light"
     },
     "output_type": "display_data"
    }
   ],
   "source": [
    "plt.hist(df_grouped['comentarios'], bins=df_grouped['comentarios'].max()+1, density=True, histtype='step')\n",
    "plt.xscale('symlog', basex=2)\n",
    "plt.xticks([2**i for i in range(0,12)])\n",
    "plt.xlabel('Número de comentários')\n",
    "plt.title('PDF')\n",
    "plt.show()"
   ]
  },
  {
   "cell_type": "code",
   "execution_count": null,
   "metadata": {},
   "outputs": [],
   "source": []
  }
 ],
 "metadata": {
  "kernelspec": {
   "display_name": "Python 3.7 (ic)",
   "language": "python",
   "name": "ic-py37"
  },
  "language_info": {
   "codemirror_mode": {
    "name": "ipython",
    "version": 3
   },
   "file_extension": ".py",
   "mimetype": "text/x-python",
   "name": "python",
   "nbconvert_exporter": "python",
   "pygments_lexer": "ipython3",
   "version": "3.7.7"
  }
 },
 "nbformat": 4,
 "nbformat_minor": 4
}
