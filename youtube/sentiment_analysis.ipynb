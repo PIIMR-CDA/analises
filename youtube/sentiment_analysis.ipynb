{
 "cells": [
  {
   "cell_type": "code",
   "execution_count": 1,
   "metadata": {},
   "outputs": [],
   "source": [
    "import subprocess\n",
    "import shlex\n",
    "import pandas as pd\n",
    "import matplotlib.pyplot as plt"
   ]
  },
  {
   "cell_type": "code",
   "execution_count": 2,
   "metadata": {},
   "outputs": [],
   "source": [
    "jar_path = '../SentiStrength.jar'\n",
    "senti_data_path = '../SentStrength_Data/'"
   ]
  },
  {
   "cell_type": "code",
   "execution_count": 3,
   "metadata": {},
   "outputs": [],
   "source": [
    "df = pd.read_csv('../../dados/comentarios1.csv')"
   ]
  },
  {
   "cell_type": "code",
   "execution_count": 4,
   "metadata": {},
   "outputs": [],
   "source": [
    "def RateSentiment(comments):\n",
    "    p = subprocess.Popen(shlex.split(\"java -jar '\" + jar_path + \"' stdin sentidata '\" + senti_data_path + \"' trinary\"),\n",
    "                        stdin=subprocess.PIPE,\n",
    "                        stdout=subprocess.PIPE,\n",
    "                        stderr=subprocess.PIPE)\n",
    "    \n",
    "    #Troca todos os espaços, \\n, \\r, etc, por '+'\n",
    "    comments = ['+'.join(c) for c in comments.str.split()]\n",
    "    conc_comments = '\\n'.join(comments)\n",
    "    \n",
    "    #codifica para mandar\n",
    "    b = bytes(conc_comments, 'utf-8')\n",
    "    stdout_byte, stderr_text = p.communicate(b)\n",
    "    \n",
    "    #decodifica\n",
    "    stdout_text = stdout_byte.decode(\"utf-8\")\n",
    "    \n",
    "    #troca tab por espaço entre as scores e remove outros espaços\n",
    "    stdout_text = stdout_text.rstrip().replace(\"\\t\",\" \").replace(\"\\r\",\"\")\n",
    "    \n",
    "    return stdout_text.split('\\n')"
   ]
  },
  {
   "cell_type": "code",
   "execution_count": 5,
   "metadata": {},
   "outputs": [],
   "source": [
    "sents_str = RateSentiment(df['text'])"
   ]
  },
  {
   "cell_type": "code",
   "execution_count": 6,
   "metadata": {},
   "outputs": [],
   "source": [
    "sents_list = [sent.split() for sent in sents_str]\n",
    "sents_list = [s for s in zip(*sents_list)]\n",
    "\n",
    "df['sent_pos'] = sents_list[0]\n",
    "df['sent_neu'] = sents_list[2]\n",
    "df['sent_neg'] = sents_list[1]\n",
    "\n",
    "df = df.astype({'sent_pos': int, 'sent_neu': int, 'sent_neg': int})"
   ]
  },
  {
   "cell_type": "code",
   "execution_count": 8,
   "metadata": {},
   "outputs": [
    {
     "data": {
      "text/html": [
       "<div>\n",
       "<style scoped>\n",
       "    .dataframe tbody tr th:only-of-type {\n",
       "        vertical-align: middle;\n",
       "    }\n",
       "\n",
       "    .dataframe tbody tr th {\n",
       "        vertical-align: top;\n",
       "    }\n",
       "\n",
       "    .dataframe thead th {\n",
       "        text-align: right;\n",
       "    }\n",
       "</style>\n",
       "<table border=\"1\" class=\"dataframe\">\n",
       "  <thead>\n",
       "    <tr style=\"text-align: right;\">\n",
       "      <th></th>\n",
       "      <th>cid</th>\n",
       "      <th>text</th>\n",
       "      <th>time</th>\n",
       "      <th>author</th>\n",
       "      <th>channel</th>\n",
       "      <th>votes</th>\n",
       "      <th>video_id</th>\n",
       "      <th>parent_id</th>\n",
       "      <th>replies</th>\n",
       "      <th>uploader</th>\n",
       "      <th>uploader_id</th>\n",
       "      <th>video_title</th>\n",
       "      <th>sent_pos</th>\n",
       "      <th>sent_neu</th>\n",
       "      <th>sent_neg</th>\n",
       "    </tr>\n",
       "  </thead>\n",
       "  <tbody>\n",
       "    <tr>\n",
       "      <th>0</th>\n",
       "      <td>UgzBlGJQXIilmNNrc1R4AaABAg</td>\n",
       "      <td>Estou com covid-19 tive sintomas mais no meu p...</td>\n",
       "      <td>2 meses atrás</td>\n",
       "      <td>🔞Canal Marllon YT ⤵️</td>\n",
       "      <td>UCvNuAuBTMykr1V0AvTrjdEg</td>\n",
       "      <td>0</td>\n",
       "      <td>orJy9GCxVHs</td>\n",
       "      <td>NaN</td>\n",
       "      <td>NaN</td>\n",
       "      <td>Dr. Lair Ribeiro Oficial</td>\n",
       "      <td>academialairribeiro</td>\n",
       "      <td>LIVE COVID-19 - PARTE 2</td>\n",
       "      <td>3</td>\n",
       "      <td>-1</td>\n",
       "      <td>-3</td>\n",
       "    </tr>\n",
       "    <tr>\n",
       "      <th>1</th>\n",
       "      <td>UgzSflRq03y3bqnVzwJ4AaABAg</td>\n",
       "      <td>Boa noite Dr. Lair, tudo bem?\\nO Senhor aceita...</td>\n",
       "      <td>2 meses atrás</td>\n",
       "      <td>Gladston Cardoso</td>\n",
       "      <td>UCZQ4ckev7OiqZk3FQiWx9iQ</td>\n",
       "      <td>0</td>\n",
       "      <td>orJy9GCxVHs</td>\n",
       "      <td>NaN</td>\n",
       "      <td>NaN</td>\n",
       "      <td>Dr. Lair Ribeiro Oficial</td>\n",
       "      <td>academialairribeiro</td>\n",
       "      <td>LIVE COVID-19 - PARTE 2</td>\n",
       "      <td>2</td>\n",
       "      <td>1</td>\n",
       "      <td>-1</td>\n",
       "    </tr>\n",
       "    <tr>\n",
       "      <th>2</th>\n",
       "      <td>UgwNgkRaRBPjOBGsuQh4AaABAg</td>\n",
       "      <td>Dr Lair sou seu fã, quando puder fale se o aça...</td>\n",
       "      <td>3 meses atrás</td>\n",
       "      <td>Adriano Leal</td>\n",
       "      <td>UCE3KIo9DBVZjnJWL0ie5piw</td>\n",
       "      <td>0</td>\n",
       "      <td>orJy9GCxVHs</td>\n",
       "      <td>NaN</td>\n",
       "      <td>NaN</td>\n",
       "      <td>Dr. Lair Ribeiro Oficial</td>\n",
       "      <td>academialairribeiro</td>\n",
       "      <td>LIVE COVID-19 - PARTE 2</td>\n",
       "      <td>3</td>\n",
       "      <td>-1</td>\n",
       "      <td>-3</td>\n",
       "    </tr>\n",
       "    <tr>\n",
       "      <th>3</th>\n",
       "      <td>UgzIrWJMxCaUCHHF4Ed4AaABAg</td>\n",
       "      <td>dr lair eu faco uso do cloreto de magnesio 1 c...</td>\n",
       "      <td>3 meses atrás</td>\n",
       "      <td>anna parreira</td>\n",
       "      <td>UCRevD9obfOXoY5raZQfcycA</td>\n",
       "      <td>0</td>\n",
       "      <td>orJy9GCxVHs</td>\n",
       "      <td>NaN</td>\n",
       "      <td>NaN</td>\n",
       "      <td>Dr. Lair Ribeiro Oficial</td>\n",
       "      <td>academialairribeiro</td>\n",
       "      <td>LIVE COVID-19 - PARTE 2</td>\n",
       "      <td>2</td>\n",
       "      <td>1</td>\n",
       "      <td>-1</td>\n",
       "    </tr>\n",
       "    <tr>\n",
       "      <th>4</th>\n",
       "      <td>UgzgLE1od7COmXQxZGN4AaABAg</td>\n",
       "      <td>Oi Dr lair parabéns pelo canal excelente quali...</td>\n",
       "      <td>3 meses atrás</td>\n",
       "      <td>Romero Trindade</td>\n",
       "      <td>UC-h2WEoZnOPFSrHkrg7Ncvg</td>\n",
       "      <td>0</td>\n",
       "      <td>orJy9GCxVHs</td>\n",
       "      <td>NaN</td>\n",
       "      <td>NaN</td>\n",
       "      <td>Dr. Lair Ribeiro Oficial</td>\n",
       "      <td>academialairribeiro</td>\n",
       "      <td>LIVE COVID-19 - PARTE 2</td>\n",
       "      <td>2</td>\n",
       "      <td>-1</td>\n",
       "      <td>-2</td>\n",
       "    </tr>\n",
       "  </tbody>\n",
       "</table>\n",
       "</div>"
      ],
      "text/plain": [
       "                          cid  \\\n",
       "0  UgzBlGJQXIilmNNrc1R4AaABAg   \n",
       "1  UgzSflRq03y3bqnVzwJ4AaABAg   \n",
       "2  UgwNgkRaRBPjOBGsuQh4AaABAg   \n",
       "3  UgzIrWJMxCaUCHHF4Ed4AaABAg   \n",
       "4  UgzgLE1od7COmXQxZGN4AaABAg   \n",
       "\n",
       "                                                text           time  \\\n",
       "0  Estou com covid-19 tive sintomas mais no meu p...  2 meses atrás   \n",
       "1  Boa noite Dr. Lair, tudo bem?\\nO Senhor aceita...  2 meses atrás   \n",
       "2  Dr Lair sou seu fã, quando puder fale se o aça...  3 meses atrás   \n",
       "3  dr lair eu faco uso do cloreto de magnesio 1 c...  3 meses atrás   \n",
       "4  Oi Dr lair parabéns pelo canal excelente quali...  3 meses atrás   \n",
       "\n",
       "                 author                   channel  votes     video_id  \\\n",
       "0  🔞Canal Marllon YT ⤵️  UCvNuAuBTMykr1V0AvTrjdEg      0  orJy9GCxVHs   \n",
       "1      Gladston Cardoso  UCZQ4ckev7OiqZk3FQiWx9iQ      0  orJy9GCxVHs   \n",
       "2          Adriano Leal  UCE3KIo9DBVZjnJWL0ie5piw      0  orJy9GCxVHs   \n",
       "3         anna parreira  UCRevD9obfOXoY5raZQfcycA      0  orJy9GCxVHs   \n",
       "4       Romero Trindade  UC-h2WEoZnOPFSrHkrg7Ncvg      0  orJy9GCxVHs   \n",
       "\n",
       "  parent_id  replies                  uploader          uploader_id  \\\n",
       "0       NaN      NaN  Dr. Lair Ribeiro Oficial  academialairribeiro   \n",
       "1       NaN      NaN  Dr. Lair Ribeiro Oficial  academialairribeiro   \n",
       "2       NaN      NaN  Dr. Lair Ribeiro Oficial  academialairribeiro   \n",
       "3       NaN      NaN  Dr. Lair Ribeiro Oficial  academialairribeiro   \n",
       "4       NaN      NaN  Dr. Lair Ribeiro Oficial  academialairribeiro   \n",
       "\n",
       "               video_title  sent_pos  sent_neu  sent_neg  \n",
       "0  LIVE COVID-19 - PARTE 2         3        -1        -3  \n",
       "1  LIVE COVID-19 - PARTE 2         2         1        -1  \n",
       "2  LIVE COVID-19 - PARTE 2         3        -1        -3  \n",
       "3  LIVE COVID-19 - PARTE 2         2         1        -1  \n",
       "4  LIVE COVID-19 - PARTE 2         2        -1        -2  "
      ]
     },
     "execution_count": 8,
     "metadata": {},
     "output_type": "execute_result"
    }
   ],
   "source": [
    "df.head()"
   ]
  },
  {
   "cell_type": "code",
   "execution_count": 40,
   "metadata": {},
   "outputs": [
    {
     "data": {
      "image/png": "[encoded data removed]",
      "text/plain": [
       "<Figure size 432x288 with 1 Axes>"
      ]
     },
     "metadata": {
      "needs_background": "light"
     },
     "output_type": "display_data"
    }
   ],
   "source": [
    "medias = df.groupby('uploader').mean().abs()[['sent_pos','sent_neg','sent_neu']]\n",
    "medias.plot(kind = 'bar',rot = 90, color=['g','r','b'])\n",
    "plt.legend()\n",
    "plt.show()"
   ]
  },
  {
   "cell_type": "code",
   "execution_count": null,
   "metadata": {},
   "outputs": [],
   "source": []
  }
 ],
 "metadata": {
  "kernelspec": {
   "display_name": "Python 3.7 (ic)",
   "language": "python",
   "name": "ic-py37"
  },
  "language_info": {
   "codemirror_mode": {
    "name": "ipython",
    "version": 3
   },
   "file_extension": ".py",
   "mimetype": "text/x-python",
   "name": "python",
   "nbconvert_exporter": "python",
   "pygments_lexer": "ipython3",
   "version": "3.7.7"
  }
 },
 "nbformat": 4,
 "nbformat_minor": 4
}
