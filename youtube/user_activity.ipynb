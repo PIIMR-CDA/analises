{
 "cells": [
  {
   "cell_type": "code",
   "execution_count": 1,
   "metadata": {},
   "outputs": [],
   "source": [
    "import pandas as pd\n",
    "import matplotlib.pyplot as plt"
   ]
  },
  {
   "cell_type": "code",
   "execution_count": 2,
   "metadata": {},
   "outputs": [],
   "source": [
    "df = pd.read_csv('../../dados/youtube/comentarios1.csv')"
   ]
  },
  {
   "cell_type": "code",
   "execution_count": 3,
   "metadata": {},
   "outputs": [],
   "source": [
    "df_grouped = df.groupby('channel').count()[['cid']].reset_index().rename(columns = {'cid': 'comentarios'})\n",
    "stats_df = df_grouped.groupby('comentarios').count().reset_index().rename(columns = {'channel': 'frequencia'})\n",
    "stats_df['pdf'] = stats_df['frequencia'] / sum(stats_df['frequencia'])\n",
    "stats_df['cdf'] = stats_df['pdf'].cumsum()"
   ]
  },
  {
   "cell_type": "code",
   "execution_count": 4,
   "metadata": {},
   "outputs": [
    {
     "data": {
      "text/html": [
       "<div>\n",
       "<style scoped>\n",
       "    .dataframe tbody tr th:only-of-type {\n",
       "        vertical-align: middle;\n",
       "    }\n",
       "\n",
       "    .dataframe tbody tr th {\n",
       "        vertical-align: top;\n",
       "    }\n",
       "\n",
       "    .dataframe thead th {\n",
       "        text-align: right;\n",
       "    }\n",
       "</style>\n",
       "<table border=\"1\" class=\"dataframe\">\n",
       "  <thead>\n",
       "    <tr style=\"text-align: right;\">\n",
       "      <th></th>\n",
       "      <th>comentarios</th>\n",
       "      <th>frequencia</th>\n",
       "      <th>pdf</th>\n",
       "      <th>cdf</th>\n",
       "    </tr>\n",
       "  </thead>\n",
       "  <tbody>\n",
       "    <tr>\n",
       "      <th>0</th>\n",
       "      <td>1</td>\n",
       "      <td>23979</td>\n",
       "      <td>0.698038</td>\n",
       "      <td>0.698038</td>\n",
       "    </tr>\n",
       "    <tr>\n",
       "      <th>1</th>\n",
       "      <td>2</td>\n",
       "      <td>5277</td>\n",
       "      <td>0.153616</td>\n",
       "      <td>0.851653</td>\n",
       "    </tr>\n",
       "    <tr>\n",
       "      <th>2</th>\n",
       "      <td>3</td>\n",
       "      <td>1953</td>\n",
       "      <td>0.056853</td>\n",
       "      <td>0.908506</td>\n",
       "    </tr>\n",
       "    <tr>\n",
       "      <th>3</th>\n",
       "      <td>4</td>\n",
       "      <td>968</td>\n",
       "      <td>0.028179</td>\n",
       "      <td>0.936685</td>\n",
       "    </tr>\n",
       "    <tr>\n",
       "      <th>4</th>\n",
       "      <td>5</td>\n",
       "      <td>602</td>\n",
       "      <td>0.017524</td>\n",
       "      <td>0.954209</td>\n",
       "    </tr>\n",
       "    <tr>\n",
       "      <th>...</th>\n",
       "      <td>...</td>\n",
       "      <td>...</td>\n",
       "      <td>...</td>\n",
       "      <td>...</td>\n",
       "    </tr>\n",
       "    <tr>\n",
       "      <th>58</th>\n",
       "      <td>90</td>\n",
       "      <td>1</td>\n",
       "      <td>0.000029</td>\n",
       "      <td>0.999854</td>\n",
       "    </tr>\n",
       "    <tr>\n",
       "      <th>59</th>\n",
       "      <td>145</td>\n",
       "      <td>1</td>\n",
       "      <td>0.000029</td>\n",
       "      <td>0.999884</td>\n",
       "    </tr>\n",
       "    <tr>\n",
       "      <th>60</th>\n",
       "      <td>150</td>\n",
       "      <td>1</td>\n",
       "      <td>0.000029</td>\n",
       "      <td>0.999913</td>\n",
       "    </tr>\n",
       "    <tr>\n",
       "      <th>61</th>\n",
       "      <td>157</td>\n",
       "      <td>2</td>\n",
       "      <td>0.000058</td>\n",
       "      <td>0.999971</td>\n",
       "    </tr>\n",
       "    <tr>\n",
       "      <th>62</th>\n",
       "      <td>650</td>\n",
       "      <td>1</td>\n",
       "      <td>0.000029</td>\n",
       "      <td>1.000000</td>\n",
       "    </tr>\n",
       "  </tbody>\n",
       "</table>\n",
       "<p>63 rows × 4 columns</p>\n",
       "</div>"
      ],
      "text/plain": [
       "    comentarios  frequencia       pdf       cdf\n",
       "0             1       23979  0.698038  0.698038\n",
       "1             2        5277  0.153616  0.851653\n",
       "2             3        1953  0.056853  0.908506\n",
       "3             4         968  0.028179  0.936685\n",
       "4             5         602  0.017524  0.954209\n",
       "..          ...         ...       ...       ...\n",
       "58           90           1  0.000029  0.999854\n",
       "59          145           1  0.000029  0.999884\n",
       "60          150           1  0.000029  0.999913\n",
       "61          157           2  0.000058  0.999971\n",
       "62          650           1  0.000029  1.000000\n",
       "\n",
       "[63 rows x 4 columns]"
      ]
     },
     "execution_count": 4,
     "metadata": {},
     "output_type": "execute_result"
    }
   ],
   "source": [
    "stats_df"
   ]
  },
  {
   "cell_type": "code",
   "execution_count": 5,
   "metadata": {},
   "outputs": [
    {
     "data": {
      "image/png": "[encoded data removed]",
      "text/plain": [
       "<Figure size 432x288 with 1 Axes>"
      ]
     },
     "metadata": {
      "needs_background": "light"
     },
     "output_type": "display_data"
    }
   ],
   "source": [
    "plt.hist(df_grouped['comentarios'], bins=df_grouped['comentarios'].max()+1, \n",
    "         density=True, cumulative=True, histtype='step')\n",
    "plt.xlim(0, df_grouped['comentarios'].max())\n",
    "plt.xscale('symlog', basex=2)\n",
    "plt.xticks([2**i for i in range(0,10)])\n",
    "plt.xlabel('Número de comentários')\n",
    "plt.title('CDF')\n",
    "plt.show()"
   ]
  },
  {
   "cell_type": "code",
   "execution_count": 6,
   "metadata": {},
   "outputs": [
    {
     "data": {
      "image/png": "[encoded data removed]",
      "text/plain": [
       "<Figure size 432x288 with 1 Axes>"
      ]
     },
     "metadata": {
      "needs_background": "light"
     },
     "output_type": "display_data"
    }
   ],
   "source": [
    "plt.hist(df_grouped['comentarios'], bins=df_grouped['comentarios'].max()+1, density=True, histtype='step')\n",
    "plt.xscale('symlog', basex=2)\n",
    "plt.xticks([2**i for i in range(0,10)])\n",
    "plt.xlabel('Número de comentários')\n",
    "plt.title('PDF')\n",
    "plt.show()"
   ]
  }
 ],
 "metadata": {
  "kernelspec": {
   "display_name": "Python 3.7 (ic)",
   "language": "python",
   "name": "ic-py37"
  },
  "language_info": {
   "codemirror_mode": {
    "name": "ipython",
    "version": 3
   },
   "file_extension": ".py",
   "mimetype": "text/x-python",
   "name": "python",
   "nbconvert_exporter": "python",
   "pygments_lexer": "ipython3",
   "version": "3.7.7"
  }
 },
 "nbformat": 4,
 "nbformat_minor": 4
}
