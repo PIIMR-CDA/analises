{
 "cells": [
  {
   "cell_type": "code",
   "execution_count": 2,
   "metadata": {},
   "outputs": [],
   "source": [
    "import numpy as np\n",
    "import pandas as pd\n",
    "from sklearn.feature_extraction.text import CountVectorizer"
   ]
  },
  {
   "cell_type": "code",
   "execution_count": 85,
   "metadata": {},
   "outputs": [],
   "source": [
    "def get_unique_words(text):\n",
    "    words = [word for message in text for word in message]\n",
    "    return set(words)\n",
    "\n",
    "def co_occurence_matrix(text, window_size, stop_words):\n",
    "    unique_words = get_unique_words(text)\n",
    "    n = len(unique_words) #number of unique words\n",
    "    co_matrix = pd.DataFrame(data=np.zeros([n,n]), columns=unique_words, index=unique_words, dtype='int')\n",
    "\n",
    "    \n",
    "    for message in text:\n",
    "        msg_len = len(message)\n",
    "        for i, word in enumerate(message):\n",
    "            first = max(i - window_size, 0)\n",
    "            last = min(i + window_size + 1, msg_len)\n",
    "            for context in message[first:last]:\n",
    "                co_matrix.loc[word,context] += 1\n",
    "                #co_matrix.loc[context,word] += 1\n",
    "    return co_matrix        \n",
    "    \n",
    "def co_occurence_in_comments_list(text, target, stop_words=None):\n",
    "    #Filter comments in which target word is present\n",
    "    text = text[text.str.contains(target)]\n",
    "    \n",
    "    preprocessor = CountVectorizer(strip_accents='unicode').build_preprocessor()\n",
    "    target = preprocessor(target) #preprocesses target word\n",
    "    stop_words = [preprocessor(word) for word in stop_words] #preprocesses stop words\n",
    "        \n",
    "    #calculates word count for each message\n",
    "    vectorizer = CountVectorizer(strip_accents='unicode', stop_words=stop_words, binary=True)\n",
    "    X = vectorizer.fit_transform(text).toarray()\n",
    "       \n",
    "    \n",
    "    comments_count = X.sum(axis=0) #no. of comments containing A in which each word appears\n",
    "    \n",
    "    return list(zip(vectorizer.get_feature_names(), comments_count))\n",
    "    \n",
    "#word2vec?"
   ]
  },
  {
   "cell_type": "code",
   "execution_count": 71,
   "metadata": {},
   "outputs": [],
   "source": [
    "data = pd.read_csv('../comments.csv', usecols=['text'])['text'].dropna()\n",
    "stop_words = [word.rstrip() for word in open('stopwords.txt')]\n",
    "#co_occurence_matrix(data, window_size=2, stop_words=0)"
   ]
  },
  {
   "cell_type": "code",
   "execution_count": 93,
   "metadata": {},
   "outputs": [],
   "source": [
    "co_list = co_occurence_in_comments_list(data, 'virus', stop_words=stop_words)\n",
    "co_list = sorted(co_list, reverse=True, key=lambda tupl : tupl[1])"
   ]
  },
  {
   "cell_type": "code",
   "execution_count": 94,
   "metadata": {},
   "outputs": [
    {
     "data": {
      "text/plain": [
       "[('virus', 1017),\n",
       " ('coronavirus', 638),\n",
       " ('pessoas', 307),\n",
       " ('pra', 222),\n",
       " ('pode', 220),\n",
       " ('vai', 195),\n",
       " ('corona', 189),\n",
       " ('ainda', 179),\n",
       " ('sobre', 160),\n",
       " ('atila', 143),\n",
       " ('agora', 140),\n",
       " ('brasil', 136),\n",
       " ('casa', 133),\n",
       " ('aqui', 118),\n",
       " ('todos', 117),\n",
       " ('video', 114),\n",
       " ('vc', 113),\n",
       " ('sintomas', 112),\n",
       " ('sim', 110),\n",
       " ('pois', 108),\n",
       " ('fazer', 107),\n",
       " ('gente', 107),\n",
       " ('bem', 106),\n",
       " ('ai', 104),\n",
       " ('gripe', 104),\n",
       " ('doenca', 102),\n",
       " ('entao', 102),\n",
       " ('todo', 102),\n",
       " ('ficar', 101),\n",
       " ('caso', 100)]"
      ]
     },
     "execution_count": 94,
     "metadata": {},
     "output_type": "execute_result"
    }
   ],
   "source": [
    "co_list[:30]"
   ]
  },
  {
   "cell_type": "code",
   "execution_count": null,
   "metadata": {},
   "outputs": [],
   "source": []
  }
 ],
 "metadata": {
  "kernelspec": {
   "display_name": "Python 3.7 (ic)",
   "language": "python",
   "name": "ic-py37"
  },
  "language_info": {
   "codemirror_mode": {
    "name": "ipython",
    "version": 3
   },
   "file_extension": ".py",
   "mimetype": "text/x-python",
   "name": "python",
   "nbconvert_exporter": "python",
   "pygments_lexer": "ipython3",
   "version": "3.7.7"
  }
 },
 "nbformat": 4,
 "nbformat_minor": 4
}
